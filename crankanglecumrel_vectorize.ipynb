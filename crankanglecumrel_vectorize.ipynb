{
 "cells": [
  {
   "cell_type": "code",
   "execution_count": 1,
   "metadata": {},
   "outputs": [],
   "source": [
    "import numpy as np\n",
    "from scipy.fftpack import fft, ifft\n",
    "from scipy.signal import butter, lfilter\n",
    "import matplotlib.pyplot as plt\n",
    "from pylab import *\n",
    "\n",
    "\n",
    "from time import perf_counter\n",
    "import pandas as pd\n",
    "\n",
    "%matplotlib qt"
   ]
  },
  {
   "cell_type": "code",
   "execution_count": null,
   "metadata": {},
   "outputs": [],
   "source": []
  },
  {
   "cell_type": "code",
   "execution_count": 2,
   "metadata": {},
   "outputs": [],
   "source": [
    "#read signal\n",
    "gasforce1 = pd.read_csv('gasforce1.tab', header = None, skiprows = 1, delimiter = '\\t')\n",
    "speedvstime = pd.read_csv('speedvstime.tab', header = None, skiprows = 1, delimiter = '\\t')"
   ]
  },
  {
   "cell_type": "code",
   "execution_count": 11,
   "metadata": {},
   "outputs": [],
   "source": [
    "time_sec = gasforce1[0]\n",
    "speed_rpm = speedvstime[1]"
   ]
  },
  {
   "cell_type": "code",
   "execution_count": 12,
   "metadata": {},
   "outputs": [],
   "source": [
    "time_sec_i = np.delete(time_sec.values,len(time_sec.values)-1)\n",
    "time_sec_i_1 = np.delete(time_sec.values,0)\n",
    "speed_rpm_i_1 = np.delete(speed_rpm.values,0)"
   ]
  },
  {
   "cell_type": "code",
   "execution_count": 13,
   "metadata": {},
   "outputs": [],
   "source": [
    "temp = (((speed_rpm_i_1/2)/60)*360*(time_sec_i-time_sec_i_1))"
   ]
  },
  {
   "cell_type": "code",
   "execution_count": 15,
   "metadata": {},
   "outputs": [
    {
     "data": {
      "text/plain": [
       "array([-0.18184122, -0.18185012, -0.18186169, ..., -2.999967  ,\n",
       "       -1.4999919 , -1.5000006 ])"
      ]
     },
     "execution_count": 15,
     "metadata": {},
     "output_type": "execute_result"
    }
   ],
   "source": [
    "temp"
   ]
  },
  {
   "cell_type": "code",
   "execution_count": 16,
   "metadata": {},
   "outputs": [
    {
     "data": {
      "text/plain": [
       "1.499991899996504"
      ]
     },
     "execution_count": 16,
     "metadata": {},
     "output_type": "execute_result"
    }
   ],
   "source": [
    "trial1[3]"
   ]
  },
  {
   "cell_type": "code",
   "execution_count": null,
   "metadata": {},
   "outputs": [],
   "source": [
    "def eval_rms_ampl(time_sec, speed_rpm):\n",
    "    datalength = len(speed_rpm)\n",
    "    crankanglecum = np.array([0], dtype = float64)\n",
    "    for i in np.arange(1, datalength):\n",
    "        crankanglecum = np.append(crankanglecum,\n",
    "                                  (crankanglecum[i-1]+(((speed_rpm[i-1]/2)/60)*360*(time_sec[i]-time_sec[i-1]))))\n",
    "        cccum2_loop = (((speed_rpm[i-1]/2)/60)*360*(time_sec[i]-time_sec[i-1]))"
   ]
  },
  {
   "cell_type": "code",
   "execution_count": 6,
   "metadata": {},
   "outputs": [],
   "source": [
    "def cccum2_loop(time_sec, speed_rpm, vibr):\n",
    "    datalength = len(speed_rpm)\n",
    "    crankanglecum = np.array([0], dtype = float64)\n",
    "    for i in np.arange(1, datalength):\n",
    "        crankanglecum = np.append(crankanglecum,\n",
    "                                  (crankanglecum[i-1]+(((speed_rpm[i-1]/2)/60)*360*(time_sec[i]-time_sec[i-1]))))\n",
    "        cccum2_loop = (((speed_rpm[i-1]/2)/60)*360*(time_sec[i]-time_sec[i-1]))\n",
    "    time_sec_i = np.delete(time_sec.values,len(time_sec.values)-1)\n",
    "    time_sec_i_1 = np.delete(time_sec.values,0)\n",
    "    speed_rpm_i_1 = np.delete(speed_rpm.values,0)\n",
    "    cccum2_vect = (((speed_rpm_i_1/2)/60)*360*(time_sec_i-time_sec_i_1))\n",
    "    cycle = np.array([1], dtype = int)\n",
    "    crankanglerel = np.array([0], dtype = float64)\n",
    "    for i in np.arange(1,datalength):\n",
    "        cycle = (np.append(cycle, np.floor(((crankanglecum[i]/720.0))+1)))\n",
    "        crankanglerel = np.append(crankanglerel, (crankanglecum[i]-(cycle[i]-1)*720))\n",
    "    return cycle, crankanglerel, crankanglecum, cccum2_loop, cccum2_vect"
   ]
  },
  {
   "cell_type": "code",
   "execution_count": 7,
   "metadata": {},
   "outputs": [
    {
     "data": {
      "text/plain": [
       "(263.77922442546645, 262.1158333027894, 258.11206465564646)"
      ]
     },
     "execution_count": 7,
     "metadata": {},
     "output_type": "execute_result"
    }
   ],
   "source": [
    "t1_start = time.perf_counter()\n",
    "trial1 = eval_rms_ampl(gasforce1[0],speedvstime[1],gasforce1[1])\n",
    "t1_end = time.perf_counter()\n",
    "\n",
    "t2_start = time.perf_counter()\n",
    "trial2 = eval_rms_ampl(gasforce1[0],speedvstime[1],gasforce1[1])\n",
    "t2_end = time.perf_counter()\n",
    "\n",
    "t3_start = time.perf_counter()\n",
    "trial3 = eval_rms_ampl(gasforce1[0],speedvstime[1],gasforce1[1])\n",
    "t3_end = time.perf_counter()\n",
    "\n",
    "t1 = -1*(t1_start - t1_end)\n",
    "t2 = -1*(t2_start - t2_end)\n",
    "t3 = -1*(t3_start - t3_end)\n",
    "\n",
    "t1,t2,t3"
   ]
  },
  {
   "cell_type": "code",
   "execution_count": null,
   "metadata": {},
   "outputs": [],
   "source": []
  },
  {
   "cell_type": "code",
   "execution_count": 9,
   "metadata": {},
   "outputs": [
    {
     "data": {
      "text/plain": [
       "1.499991899996504"
      ]
     },
     "execution_count": 9,
     "metadata": {},
     "output_type": "execute_result"
    }
   ],
   "source": [
    "trial1[3]"
   ]
  },
  {
   "cell_type": "code",
   "execution_count": null,
   "metadata": {},
   "outputs": [],
   "source": [
    "gasforce1.tail()"
   ]
  },
  {
   "cell_type": "code",
   "execution_count": null,
   "metadata": {},
   "outputs": [],
   "source": [
    "trial1"
   ]
  },
  {
   "cell_type": "code",
   "execution_count": null,
   "metadata": {},
   "outputs": [],
   "source": [
    "plt.plot(gasforce1[0],trial1[0])\n",
    "plt.grid()\n",
    "plt.show()"
   ]
  },
  {
   "cell_type": "code",
   "execution_count": null,
   "metadata": {},
   "outputs": [],
   "source": [
    "plt.plot(gasforce1[0],trial1[1])\n",
    "plt.grid()\n",
    "plt.show()"
   ]
  },
  {
   "cell_type": "code",
   "execution_count": null,
   "metadata": {},
   "outputs": [],
   "source": [
    "plt.plot(gasforce1[0],trial1[2])\n",
    "plt.grid()\n",
    "plt.show()"
   ]
  },
  {
   "cell_type": "code",
   "execution_count": null,
   "metadata": {},
   "outputs": [],
   "source": []
  }
 ],
 "metadata": {
  "kernelspec": {
   "display_name": "Python 3",
   "language": "python",
   "name": "python3"
  },
  "language_info": {
   "codemirror_mode": {
    "name": "ipython",
    "version": 3
   },
   "file_extension": ".py",
   "mimetype": "text/x-python",
   "name": "python",
   "nbconvert_exporter": "python",
   "pygments_lexer": "ipython3",
   "version": "3.6.4"
  }
 },
 "nbformat": 4,
 "nbformat_minor": 2
}
