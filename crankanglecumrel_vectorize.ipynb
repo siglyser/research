{
 "cells": [
  {
   "cell_type": "code",
   "execution_count": 1,
   "metadata": {},
   "outputs": [],
   "source": [
    "import numpy as np\n",
    "from scipy.fftpack import fft, ifft\n",
    "from scipy.signal import butter, lfilter\n",
    "import scipy as sp\n",
    "import matplotlib.pyplot as plt\n",
    "from pylab import *\n",
    "\n",
    "\n",
    "from time import perf_counter\n",
    "import pandas as pd\n",
    "\n",
    "%matplotlib qt"
   ]
  },
  {
   "cell_type": "code",
   "execution_count": 2,
   "metadata": {},
   "outputs": [],
   "source": [
    "#read signal\n",
    "gasforce1 = pd.read_csv('gasforce1.tab', header = None, skiprows = 1, delimiter = '\\t')\n",
    "speedvstime = pd.read_csv('speedvstime.tab', header = None, skiprows = 1, delimiter = '\\t')"
   ]
  },
  {
   "cell_type": "code",
   "execution_count": 3,
   "metadata": {},
   "outputs": [],
   "source": [
    "time_sec = np.array(gasforce1[0])\n",
    "speed_rpm = np.array(speedvstime[1])\n",
    "vibr_gf = np.array(gasforce1[1])"
   ]
  },
  {
   "cell_type": "code",
   "execution_count": 4,
   "metadata": {},
   "outputs": [
    {
     "data": {
      "text/plain": [
       "164998"
      ]
     },
     "execution_count": 4,
     "metadata": {},
     "output_type": "execute_result"
    }
   ],
   "source": [
    "len(time_sec)"
   ]
  },
  {
   "cell_type": "code",
   "execution_count": 5,
   "metadata": {},
   "outputs": [
    {
     "data": {
      "image/png": "[encoded data removed]",
      "text/plain": [
       "<matplotlib.figure.Figure at 0xaea8748>"
      ]
     },
     "metadata": {},
     "output_type": "display_data"
    }
   ],
   "source": [
    "plt.plot(speed_rpm, vibr_gf)\n",
    "plt.show()"
   ]
  },
  {
   "cell_type": "code",
   "execution_count": 6,
   "metadata": {},
   "outputs": [],
   "source": [
    "#Vectorised Code\n",
    "def eval_freqfft_vect(time_sec, vibr):\n",
    "    datalength_fft = len(time_sec)\n",
    "    datalengthby2 = int(datalength_fft/2)\n",
    "    timeavgcalc = np.array([], dtype = float64)\n",
    "    time_sec_i = time_sec[1:]\n",
    "    time_sec_i_1 = time_sec[:-1]\n",
    "    timeavgcalc = time_sec_i - time_sec_i_1\n",
    "    sigint_avg = np.mean(timeavgcalc)\n",
    "    siginf = 1/(datalength_fft*sigint_avg)\n",
    "    freqhztemp = np.arange(0,datalength_fft,dtype = float64)\n",
    "    freqhz = freqhztemp*siginf\n",
    "    freqhz = freqhz[0:datalengthby2]\n",
    "    vibr_fft = np.abs(fft(vibr,axis = -1))\n",
    "    vibr_fft = ((vibr_fft[0:datalengthby2])/datalength_fft)*2\n",
    "    return freqhz,vibr_fft"
   ]
  },
  {
   "cell_type": "code",
   "execution_count": 7,
   "metadata": {},
   "outputs": [],
   "source": [
    "def cccum2_vect_func(time_sec, speed_rpm, vibr):\n",
    "    time_sec_i = time_sec[1:]\n",
    "    time_sec_i_1 = time_sec[:-1]\n",
    "    speed_rpm_i_1 = speed_rpm[:-1]\n",
    "    cccum2_vect_temp = (((speed_rpm_i_1/2)/60)*360*(time_sec_i-time_sec_i_1))\n",
    "    cccum2_vect_temp = np.insert(cccum2_vect_temp,0,0)\n",
    "    cccum2_vect_temp = np.cumsum(cccum2_vect_temp)\n",
    "    cycle_vect= np.floor(((cccum2_vect_temp/720.0))+1)\n",
    "    ccrel2_vect_temp = cccum2_vect_temp-(cycle_vect-1)*720\n",
    "    maxcy_vect = max(cycle_vect)\n",
    "    alldata_vect = np.stack((cycle_vect, time_sec, speed_rpm, vibr_gf), axis = 1)\n",
    "    e, inds = np.unique(alldata_vect[:,0], return_index=True)\n",
    "    alldata_cycle_vect = np.split(alldata_vect, inds)[1:]\n",
    "    speedindex = [(np.mean(alldata_cycle_vect[int(j)-1][:,2])) for j in e]\n",
    "    rms_vibr = [(np.sqrt(np.mean(np.square((alldata_cycle_vect[int(j)-1][:,3]))))) for j in e]\n",
    "    ampl_vibr = [((max(((alldata_cycle_vect[int(j)-1][:,3])))-min(((alldata_cycle_vect[int(j)-1][:,3]))))/2) for j in e]\n",
    "    freqhztemp_vibrffttemp = [(eval_freqfft_vect((alldata_cycle_vect[int(j)-1][:,1]), (alldata_cycle_vect[int(j)-1][:,3]))) for j in e]\n",
    "    freqhztemp = [freqhztemp_vibrffttemp[int(j)-1][0]  for j in e]\n",
    "    vibrffttemp = [freqhztemp_vibrffttemp[int(j)-1][1]  for j in e]\n",
    "    freqhz3d = np.array([], dtype = float64)\n",
    "    vibrfft3d = np.array([], dtype = float64)\n",
    "    freqhz3d = np.hstack((freqhz3d,freqhztemp))\n",
    "    vibrfft3d = np.hstack((vibrfft3d,vibrffttemp))\n",
    "    freqhz3d = freqhz3d[:-1]\n",
    "    vibrfft3d = vibrfft3d[:-1]\n",
    "    e_1 = e[:-1]\n",
    "    freqvibr3d_freq_interptemp = np.array([], dtype = float64)\n",
    "    freqvibr3d_vibr_interptemp = np.array([], dtype = float64)\n",
    "    freqvibr3d_vibr_interp = np.array([], dtype = float64)\n",
    "    funcakimainterp = [(sp.interpolate.Akima1DInterpolator(freqhz3d[int(j)-1], vibrfft3d[int(j)-1])) for j in e_1] \n",
    "    tempceilval = int(max(e_1)-1)\n",
    "    maxfreqval = ((np.around(max(freqhz3d[tempceilval]),decimals=-3)))\n",
    "    freqvibr3d_freq_interptemp = np.array([np.arange(0, maxfreqval+0.1, 0.1)])\n",
    "    freqvibr3d_vibr_interptemp = [(funcakimainterp[int(j)-1](freqvibr3d_freq_interptemp)) for j in e_1]\n",
    "    freqvibr3d_freq_interp = freqvibr3d_freq_interptemp[0]\n",
    "    freqvibr3d_vibr_interp = [(np.hstack((freqvibr3d_vibr_interp, freqvibr3d_vibr_interptemp[int(j)-1][0]))) for j in e_1]\n",
    "    #freqvibr3d_vibr_interp = freqvibr3d_vibr_interp[:-1]\n",
    "    lengrid = len(freqvibr3d_freq_interp)\n",
    "    \n",
    "\n",
    "    freq3dx = np.tile(freqvibr3d_freq_interp,(tempceilval+1,1))\n",
    "    \n",
    "    freq3dy = np.transpose(np.tile(speedindex[:-1], (lengrid,1)))\n",
    "    freq3dz = freqvibr3d_vibr_interp\n",
    "\n",
    "        \n",
    "    return freq3dx, freq3dy, freq3dz"
   ]
  },
  {
   "cell_type": "code",
   "execution_count": 8,
   "metadata": {},
   "outputs": [],
   "source": [
    "t1_start = time.perf_counter()\n",
    "fft3d_vect = cccum2_vect_func(time_sec, speed_rpm, vibr_gf)\n",
    "t1_end = time.perf_counter()\n",
    "freq3dx= fft3d_vect[0]\n",
    "freq3dy= fft3d_vect[1]\n",
    "freq3dz= fft3d_vect[2]\n"
   ]
  },
  {
   "cell_type": "code",
   "execution_count": 9,
   "metadata": {},
   "outputs": [
    {
     "data": {
      "text/plain": [
       "((229, 40001), (229, 40001), (229, 40001))"
      ]
     },
     "execution_count": 9,
     "metadata": {},
     "output_type": "execute_result"
    }
   ],
   "source": [
    "np.shape(freq3dx),np.shape(freq3dy), np.shape(freq3dz)"
   ]
  },
  {
   "cell_type": "code",
   "execution_count": 10,
   "metadata": {},
   "outputs": [],
   "source": [
    "index=int(len(freq3dz))"
   ]
  },
  {
   "cell_type": "code",
   "execution_count": null,
   "metadata": {},
   "outputs": [],
   "source": [
    "[(max(freq3dz[int(j)])) for j in index]"
   ]
  },
  {
   "cell_type": "code",
   "execution_count": null,
   "metadata": {},
   "outputs": [],
   "source": [
    "int(len(freq3dz[0])),max(freq3dz[228])"
   ]
  },
  {
   "cell_type": "code",
   "execution_count": 11,
   "metadata": {},
   "outputs": [
    {
     "data": {
      "image/png": "[encoded data removed]",
      "text/plain": [
       "<matplotlib.figure.Figure at 0xafd6668>"
      ]
     },
     "metadata": {},
     "output_type": "display_data"
    }
   ],
   "source": [
    "import matplotlib.mlab as griddata\n",
    "\n",
    "CS = plt.contourf(freq3dx, freq3dy, freq3dz, 25, cmap = plt.cm.jet)\n",
    "\n",
    "norm = mpl.colors.Normalize(0,12000,20)\n",
    "\n",
    "barcolors = plt.cm.ScalarMappable(norm, cmap=\"jet\")\n",
    "bounds = np.linspace(0,12000,20)\n",
    "\n",
    "plt.colorbar(cmap = \"jet\", norm=norm, orientation='vertical', spacing = 'proportional', ticks=bounds, boundaries=bounds)\n",
    "plt.xlim(10,1000)\n",
    "plt.show()"
   ]
  },
  {
   "cell_type": "code",
   "execution_count": null,
   "metadata": {},
   "outputs": [],
   "source": [
    "from mpl_toolkits.mplot3d import axes3d\n",
    "\n",
    "fig = plt.figure()\n",
    "ax = fig.add_subplot(111,projection='3d')\n",
    "\n",
    "surf = ax.plot_surface(np.array(freq3dx), np.array(freq3dy), np.array(freq3dz), rstride=1, cstride=1, cmap=cm.jet)\n",
    "surf.set_edgecolors(surf.to_rgba(surf._A))\n",
    "\n",
    "cmap = plt.cm.jet\n",
    "norm = mpl.colors.Normalize(0,12000)\n",
    "barcolors = plt.cm.ScalarMappable(norm,cmap)\n",
    "\n",
    "fig.subplots_adjust(bottom=0.25)\n",
    "ax1 = fig.add_axes([0.05, 0.1, 0.03, 0.8])\n",
    "bounds = np.linspace(0,12000,20)\n",
    "cb1 = mpl.colorbar.ColorbarBase(ax1, cmap = cmap, \n",
    "                               norm = norm,\n",
    "                               orientation='vertical', spacing='proportional',\n",
    "                               ticks = bounds,\n",
    "                               boundaries=bounds)\n",
    "plt.xlim(10,1000)\n",
    "plt.show()"
   ]
  },
  {
   "cell_type": "code",
   "execution_count": null,
   "metadata": {},
   "outputs": [],
   "source": [
    "np.array(freq3dz).ndim"
   ]
  },
  {
   "cell_type": "code",
   "execution_count": null,
   "metadata": {},
   "outputs": [],
   "source": []
  },
  {
   "cell_type": "code",
   "execution_count": null,
   "metadata": {},
   "outputs": [],
   "source": []
  },
  {
   "cell_type": "code",
   "execution_count": null,
   "metadata": {},
   "outputs": [],
   "source": [
    "def cccum2_loop_func(time_sec, speed_rpm, vibr):\n",
    "    datalength = len(speed_rpm)\n",
    "    crankanglecum = np.array([0], dtype = float64)\n",
    "    cccum2_loop = np.array([0], dtype = float64)\n",
    "    for i in np.arange(1, datalength):\n",
    "        crankanglecum = np.append(crankanglecum,\n",
    "                                  (crankanglecum[i-1]+(((speed_rpm[i-1]/2)/60)*360*(time_sec[i]-time_sec[i-1]))))\n",
    "        cycle = np.array([1], dtype = int)\n",
    "    crankanglerel = np.array([0], dtype = float64)\n",
    "    for i in np.arange(1,datalength):\n",
    "        cycle = (np.append(cycle, np.floor(((crankanglecum[i]/720.0))+1)))\n",
    "        crankanglerel = np.append(crankanglerel, (crankanglecum[i]-(cycle[i]-1)*720))\n",
    "    maxcy = max(cycle)\n",
    "    alldata = np.stack((cycle, time_sec, speed_rpm, vibr), axis = 1)\n",
    "    e, inds = np.unique(alldata[:,0], return_index=True)\n",
    "    alldata_cycle = np.split(alldata, inds)[1:]\n",
    "    speedindex = np.array([], dtype = float64)\n",
    "    rms_vibr = np.array([], dtype = float64)\n",
    "    ampl_vibr = np.array([], dtype = float64)\n",
    "    time_interval = np.array([], dtype = float64)\n",
    "    freqhz3d = np.array([], dtype = float64)\n",
    "    vibrfft3d = np.array([], dtype = float64)\n",
    "    fs = np.array([], dtype = float64)\n",
    "    for i in np.arange(0,maxcy):\n",
    "        y = int(i)\n",
    "        speedindex = (np.append(speedindex,(np.mean(alldata_cycle[y][:,2]))))\n",
    "        rms_vibr = (np.append(rms_vibr,(np.sqrt(np.mean(np.square((alldata_cycle[y][:,3])))))))\n",
    "        ampl_vibr = (np.append(ampl_vibr,((max(((alldata_cycle[y][:,3])))-min(((alldata_cycle[y][:,3]))))/2)))\n",
    "        freqhztemp,vibrtemp = eval_freqfft_vect(alldata_cycle[y][:,1],alldata_cycle[y][:,3])\n",
    "        freqhz3d = np.hstack((freqhz3d,freqhztemp))\n",
    "        vibrfft3d = np.hstack((vibrfft3d,vibrtemp))\n",
    "    return freqhz3d, vibrfft3d"
   ]
  },
  {
   "cell_type": "code",
   "execution_count": null,
   "metadata": {},
   "outputs": [],
   "source": [
    "t2_start = time.perf_counter()\n",
    "sra_loop_temp = cccum2_loop_func(time_sec, speed_rpm, vibr_gf)\n",
    "t2_end = time.perf_counter()\n",
    "freqhz3d_loop = sra_loop_temp[0]\n",
    "vibrfft3d_loop = sra_loop_temp[1]\n"
   ]
  },
  {
   "cell_type": "code",
   "execution_count": null,
   "metadata": {},
   "outputs": [],
   "source": [
    "plt.plot(freqhz3d_loop,vibrfft3d_loop)\n",
    "plt.show()"
   ]
  },
  {
   "cell_type": "code",
   "execution_count": null,
   "metadata": {},
   "outputs": [],
   "source": [
    "t1 = -1*(t1_start - t1_end)\n",
    "t2 = -1*(t2_start - t2_end)\n",
    "\n",
    "t1,t2"
   ]
  },
  {
   "cell_type": "code",
   "execution_count": null,
   "metadata": {},
   "outputs": [],
   "source": []
  },
  {
   "cell_type": "code",
   "execution_count": null,
   "metadata": {},
   "outputs": [],
   "source": []
  }
 ],
 "metadata": {
  "kernelspec": {
   "display_name": "Python 3",
   "language": "python",
   "name": "python3"
  },
  "language_info": {
   "codemirror_mode": {
    "name": "ipython",
    "version": 3
   },
   "file_extension": ".py",
   "mimetype": "text/x-python",
   "name": "python",
   "nbconvert_exporter": "python",
   "pygments_lexer": "ipython3",
   "version": "3.6.4"
  }
 },
 "nbformat": 4,
 "nbformat_minor": 2
}
