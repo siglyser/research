{
 "cells": [
  {
   "cell_type": "code",
   "execution_count": 1,
   "metadata": {},
   "outputs": [],
   "source": [
    "import numpy as np\n",
    "from scipy.fftpack import fft, ifft\n",
    "from scipy.signal import butter, lfilter\n",
    "import scipy as sp\n",
    "import matplotlib.pyplot as plt\n",
    "from pylab import *\n",
    "\n",
    "\n",
    "from time import perf_counter\n",
    "import pandas as pd\n"
   ]
  },
  {
   "cell_type": "code",
   "execution_count": 2,
   "metadata": {},
   "outputs": [],
   "source": [
    "#read signal\n",
    "gasforce1 = pd.read_csv('gasforce1.tab', header = None, skiprows = 1, delimiter = '\\t')\n",
    "speedvstime = pd.read_csv('speedvstime.tab', header = None, skiprows = 1, delimiter = '\\t')"
   ]
  },
  {
   "cell_type": "code",
   "execution_count": 3,
   "metadata": {},
   "outputs": [],
   "source": [
    "time_sec = np.array(gasforce1[0])\n",
    "speed_rpm = np.array(speedvstime[1])\n",
    "vibr_gf = np.array(gasforce1[1])"
   ]
  },
  {
   "cell_type": "code",
   "execution_count": 4,
   "metadata": {},
   "outputs": [
    {
     "data": {
      "text/plain": [
       "164998"
      ]
     },
     "execution_count": 4,
     "metadata": {},
     "output_type": "execute_result"
    }
   ],
   "source": [
    "len(time_sec)"
   ]
  },
  {
   "cell_type": "code",
   "execution_count": 5,
   "metadata": {},
   "outputs": [
    {
     "data": {
      "image/png": "[encoded data removed]",
      "text/plain": [
       "<Figure size 640x480 with 1 Axes>"
      ]
     },
     "metadata": {},
     "output_type": "display_data"
    }
   ],
   "source": [
    "plt.plot(speed_rpm, vibr_gf)\n",
    "plt.show()"
   ]
  },
  {
   "cell_type": "code",
   "execution_count": 6,
   "metadata": {},
   "outputs": [],
   "source": [
    "#Vectorised Code\n",
    "def eval_freqfft_vect(time_sec, vibr):\n",
    "    datalength_fft = len(time_sec)\n",
    "    datalengthby2 = int(datalength_fft/2)\n",
    "    timeavgcalc = np.array([], dtype = float64)\n",
    "    time_sec_i = time_sec[1:]\n",
    "    time_sec_i_1 = time_sec[:-1]\n",
    "    timeavgcalc = time_sec_i - time_sec_i_1\n",
    "    sigint_avg = np.mean(timeavgcalc)\n",
    "    siginf = 1/(datalength_fft*sigint_avg)\n",
    "    freqhztemp = np.arange(0,datalength_fft,dtype = float64)\n",
    "    freqhz = freqhztemp*siginf\n",
    "    freqhz = freqhz[0:datalengthby2]\n",
    "    vibr_fft = np.abs(fft(vibr,axis = -1))\n",
    "    vibr_fft = ((vibr_fft[0:datalengthby2])/datalength_fft)*2\n",
    "    return freqhz,vibr_fft"
   ]
  },
  {
   "cell_type": "code",
   "execution_count": 7,
   "metadata": {},
   "outputs": [],
   "source": [
    "def cccum2_vect_func(time_sec, speed_rpm, vibr):\n",
    "    time_sec_i = time_sec[1:]\n",
    "    time_sec_i_1 = time_sec[:-1]\n",
    "    speed_rpm_i_1 = speed_rpm[:-1]\n",
    "    cccum2_vect_temp = (((speed_rpm_i_1/2)/60)*360*(time_sec_i-time_sec_i_1))\n",
    "    cccum2_vect_temp = np.insert(cccum2_vect_temp,0,0)\n",
    "    cccum2_vect_temp = np.cumsum(cccum2_vect_temp)\n",
    "    cycle_vect= np.floor(((cccum2_vect_temp/720.0))+1)\n",
    "    ccrel2_vect_temp = cccum2_vect_temp-(cycle_vect-1)*720\n",
    "    maxcy_vect = max(cycle_vect)\n",
    "    alldata_vect = np.stack((cycle_vect, time_sec, speed_rpm, vibr_gf), axis = 1)\n",
    "    e, inds = np.unique(alldata_vect[:,0], return_index=True)\n",
    "    alldata_cycle_vect = np.split(alldata_vect, inds)[1:]\n",
    "    speedindex = [(np.mean(alldata_cycle_vect[int(j)-1][:,2])) for j in e]\n",
    "    rms_vibr = [(np.sqrt(np.mean(np.square((alldata_cycle_vect[int(j)-1][:,3]))))) for j in e]\n",
    "    ampl_vibr = [((max(((alldata_cycle_vect[int(j)-1][:,3])))-min(((alldata_cycle_vect[int(j)-1][:,3]))))/2) for j in e]\n",
    "    freqhztemp_vibrffttemp = [(eval_freqfft_vect((alldata_cycle_vect[int(j)-1][:,1]), (alldata_cycle_vect[int(j)-1][:,3]))) for j in e]\n",
    "    freqhztemp = [freqhztemp_vibrffttemp[int(j)-1][0]  for j in e]\n",
    "    vibrffttemp = [freqhztemp_vibrffttemp[int(j)-1][1]  for j in e]\n",
    "    freqhz3d = np.array([], dtype = float64)\n",
    "    vibrfft3d = np.array([], dtype = float64)\n",
    "    freqhz3d = np.hstack((freqhz3d,freqhztemp))\n",
    "    vibrfft3d = np.hstack((vibrfft3d,vibrffttemp))\n",
    "    freqhz3d = freqhz3d[:-1]\n",
    "    vibrfft3d = vibrfft3d[:-1]\n",
    "    e_1 = e[:-1]\n",
    "    freqvibr3d_freq_interptemp = np.array([], dtype = float64)\n",
    "    freqvibr3d_vibr_interptemp = np.array([], dtype = float64)\n",
    "    freqvibr3d_vibr_interp = np.array([], dtype = float64)\n",
    "    funcakimainterp = [(sp.interpolate.Akima1DInterpolator(freqhz3d[int(j)-1], vibrfft3d[int(j)-1])) for j in e_1] \n",
    "    tempceilval = int(max(e_1)-1)\n",
    "    maxfreqval = ((np.around(max(freqhz3d[tempceilval]),decimals=-3)))\n",
    "    freqvibr3d_freq_interptemp = np.array([np.arange(0, maxfreqval+0.1, 0.1)])\n",
    "    freqvibr3d_vibr_interptemp = [(funcakimainterp[int(j)-1](freqvibr3d_freq_interptemp)) for j in e_1]\n",
    "    freqvibr3d_freq_interp = freqvibr3d_freq_interptemp[0]\n",
    "    freqvibr3d_vibr_interp = [(np.hstack((freqvibr3d_vibr_interp, freqvibr3d_vibr_interptemp[int(j)-1][0]))) for j in e_1]\n",
    "    #freqvibr3d_vibr_interp = freqvibr3d_vibr_interp[:-1]\n",
    "    lengrid = len(freqvibr3d_freq_interp)\n",
    "    \n",
    "\n",
    "    freq3dx = np.tile(freqvibr3d_freq_interp,(tempceilval+1,1))\n",
    "    \n",
    "    freq3dy = np.transpose(np.tile(speedindex[:-1], (lengrid,1)))\n",
    "    freq3dz = freqvibr3d_vibr_interp\n",
    "    maxz = np.amax(freq3dz)\n",
    "\n",
    "        \n",
    "    return freq3dx, freq3dy, freq3dz, maxz"
   ]
  },
  {
   "cell_type": "code",
   "execution_count": 8,
   "metadata": {},
   "outputs": [
    {
     "ename": "ValueError",
     "evalue": "setting an array element with a sequence. The requested array has an inhomogeneous shape after 1 dimensions. The detected shape was (230,) + inhomogeneous part.",
     "output_type": "error",
     "traceback": [
      "\u001b[1;31m---------------------------------------------------------------------------\u001b[0m",
      "\u001b[1;31mValueError\u001b[0m                                Traceback (most recent call last)",
      "Cell \u001b[1;32mIn[8], line 2\u001b[0m\n\u001b[0;32m      1\u001b[0m t1_start \u001b[38;5;241m=\u001b[39m time\u001b[38;5;241m.\u001b[39mperf_counter()\n\u001b[1;32m----> 2\u001b[0m fft3d_vect \u001b[38;5;241m=\u001b[39m \u001b[43mcccum2_vect_func\u001b[49m\u001b[43m(\u001b[49m\u001b[43mtime_sec\u001b[49m\u001b[43m,\u001b[49m\u001b[43m \u001b[49m\u001b[43mspeed_rpm\u001b[49m\u001b[43m,\u001b[49m\u001b[43m \u001b[49m\u001b[43mvibr_gf\u001b[49m\u001b[43m)\u001b[49m\n\u001b[0;32m      3\u001b[0m t1_end \u001b[38;5;241m=\u001b[39m time\u001b[38;5;241m.\u001b[39mperf_counter()\n\u001b[0;32m      4\u001b[0m freq3dx\u001b[38;5;241m=\u001b[39m fft3d_vect[\u001b[38;5;241m0\u001b[39m]\n",
      "Cell \u001b[1;32mIn[7], line 22\u001b[0m, in \u001b[0;36mcccum2_vect_func\u001b[1;34m(time_sec, speed_rpm, vibr)\u001b[0m\n\u001b[0;32m     20\u001b[0m freqhz3d \u001b[38;5;241m=\u001b[39m np\u001b[38;5;241m.\u001b[39marray([], dtype \u001b[38;5;241m=\u001b[39m float64)\n\u001b[0;32m     21\u001b[0m vibrfft3d \u001b[38;5;241m=\u001b[39m np\u001b[38;5;241m.\u001b[39marray([], dtype \u001b[38;5;241m=\u001b[39m float64)\n\u001b[1;32m---> 22\u001b[0m freqhz3d \u001b[38;5;241m=\u001b[39m \u001b[43mnp\u001b[49m\u001b[38;5;241;43m.\u001b[39;49m\u001b[43mhstack\u001b[49m\u001b[43m(\u001b[49m\u001b[43m(\u001b[49m\u001b[43mfreqhz3d\u001b[49m\u001b[43m,\u001b[49m\u001b[43mfreqhztemp\u001b[49m\u001b[43m)\u001b[49m\u001b[43m)\u001b[49m\n\u001b[0;32m     23\u001b[0m vibrfft3d \u001b[38;5;241m=\u001b[39m np\u001b[38;5;241m.\u001b[39mhstack((vibrfft3d,vibrffttemp))\n\u001b[0;32m     24\u001b[0m freqhz3d \u001b[38;5;241m=\u001b[39m freqhz3d[:\u001b[38;5;241m-\u001b[39m\u001b[38;5;241m1\u001b[39m]\n",
      "File \u001b[1;32m~\\work\\pythonenv\\.pyvenv\\Lib\\site-packages\\numpy\\core\\shape_base.py:352\u001b[0m, in \u001b[0;36mhstack\u001b[1;34m(tup, dtype, casting)\u001b[0m\n\u001b[0;32m    292\u001b[0m \u001b[38;5;129m@array_function_dispatch\u001b[39m(_vhstack_dispatcher)\n\u001b[0;32m    293\u001b[0m \u001b[38;5;28;01mdef\u001b[39;00m \u001b[38;5;21mhstack\u001b[39m(tup, \u001b[38;5;241m*\u001b[39m, dtype\u001b[38;5;241m=\u001b[39m\u001b[38;5;28;01mNone\u001b[39;00m, casting\u001b[38;5;241m=\u001b[39m\u001b[38;5;124m\"\u001b[39m\u001b[38;5;124msame_kind\u001b[39m\u001b[38;5;124m\"\u001b[39m):\n\u001b[0;32m    294\u001b[0m \u001b[38;5;250m    \u001b[39m\u001b[38;5;124;03m\"\"\"\u001b[39;00m\n\u001b[0;32m    295\u001b[0m \u001b[38;5;124;03m    Stack arrays in sequence horizontally (column wise).\u001b[39;00m\n\u001b[0;32m    296\u001b[0m \n\u001b[1;32m   (...)\u001b[0m\n\u001b[0;32m    350\u001b[0m \n\u001b[0;32m    351\u001b[0m \u001b[38;5;124;03m    \"\"\"\u001b[39;00m\n\u001b[1;32m--> 352\u001b[0m     arrs \u001b[38;5;241m=\u001b[39m \u001b[43matleast_1d\u001b[49m\u001b[43m(\u001b[49m\u001b[38;5;241;43m*\u001b[39;49m\u001b[43mtup\u001b[49m\u001b[43m)\u001b[49m\n\u001b[0;32m    353\u001b[0m     \u001b[38;5;28;01mif\u001b[39;00m \u001b[38;5;129;01mnot\u001b[39;00m \u001b[38;5;28misinstance\u001b[39m(arrs, \u001b[38;5;28mlist\u001b[39m):\n\u001b[0;32m    354\u001b[0m         arrs \u001b[38;5;241m=\u001b[39m [arrs]\n",
      "File \u001b[1;32m~\\work\\pythonenv\\.pyvenv\\Lib\\site-packages\\numpy\\core\\shape_base.py:65\u001b[0m, in \u001b[0;36matleast_1d\u001b[1;34m(*arys)\u001b[0m\n\u001b[0;32m     63\u001b[0m res \u001b[38;5;241m=\u001b[39m []\n\u001b[0;32m     64\u001b[0m \u001b[38;5;28;01mfor\u001b[39;00m ary \u001b[38;5;129;01min\u001b[39;00m arys:\n\u001b[1;32m---> 65\u001b[0m     ary \u001b[38;5;241m=\u001b[39m \u001b[43masanyarray\u001b[49m\u001b[43m(\u001b[49m\u001b[43mary\u001b[49m\u001b[43m)\u001b[49m\n\u001b[0;32m     66\u001b[0m     \u001b[38;5;28;01mif\u001b[39;00m ary\u001b[38;5;241m.\u001b[39mndim \u001b[38;5;241m==\u001b[39m \u001b[38;5;241m0\u001b[39m:\n\u001b[0;32m     67\u001b[0m         result \u001b[38;5;241m=\u001b[39m ary\u001b[38;5;241m.\u001b[39mreshape(\u001b[38;5;241m1\u001b[39m)\n",
      "\u001b[1;31mValueError\u001b[0m: setting an array element with a sequence. The requested array has an inhomogeneous shape after 1 dimensions. The detected shape was (230,) + inhomogeneous part."
     ]
    }
   ],
   "source": [
    "t1_start = time.perf_counter()\n",
    "fft3d_vect = cccum2_vect_func(time_sec, speed_rpm, vibr_gf)\n",
    "t1_end = time.perf_counter()\n",
    "freq3dx= fft3d_vect[0]\n",
    "freq3dy= fft3d_vect[1]\n",
    "freq3dz= fft3d_vect[2]\n",
    "maxz = fft3d_vect[3]\n",
    "time1 = t1_end-t1_start\n",
    "time1"
   ]
  },
  {
   "cell_type": "code",
   "execution_count": null,
   "metadata": {},
   "outputs": [],
   "source": [
    "import matplotlib.mlab as griddata\n",
    "\n",
    "CS = plt.contourf(freq3dx, freq3dy, freq3dz, 25, cmap = plt.cm.jet)\n",
    "\n",
    "norm = mpl.colors.Normalize(0,maxz,25)\n",
    "\n",
    "barcolors = plt.cm.ScalarMappable(norm, cmap=\"jet\")\n",
    "bounds = np.linspace(0,maxz,20)\n",
    "\n",
    "plt.colorbar(cmap = \"jet\", norm=norm, orientation='vertical', spacing = 'proportional', ticks=bounds, boundaries=bounds)\n",
    "plt.xlim(10,1000)\n",
    "plt.show()"
   ]
  }
 ],
 "metadata": {
  "kernelspec": {
   "display_name": "Python 3 (ipykernel)",
   "language": "python",
   "name": "python3"
  },
  "language_info": {
   "codemirror_mode": {
    "name": "ipython",
    "version": 3
   },
   "file_extension": ".py",
   "mimetype": "text/x-python",
   "name": "python",
   "nbconvert_exporter": "python",
   "pygments_lexer": "ipython3",
   "version": "3.12.3"
  }
 },
 "nbformat": 4,
 "nbformat_minor": 4
}
