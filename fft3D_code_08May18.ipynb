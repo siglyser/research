{
 "cells": [
  {
   "cell_type": "code",
   "execution_count": 28,
   "metadata": {},
   "outputs": [],
   "source": [
    "import numpy as np\n",
    "from scipy.fftpack import fft, ifft\n",
    "from scipy.signal import butter, lfilter\n",
    "import matplotlib.pyplot as plt\n",
    "from pylab import *\n",
    "\n",
    "\n",
    "from time import perf_counter\n",
    "import pandas as pd\n",
    "\n",
    "%matplotlib qt"
   ]
  },
  {
   "cell_type": "code",
   "execution_count": 30,
   "metadata": {},
   "outputs": [],
   "source": [
    "#Vectorised Code\n",
    "def evalfreqfftvect(time_sec, vibr):\n",
    "    datalength_fft = len(time_sec)\n",
    "    datalengthby2 = int(datalength_fft/2)\n",
    "    timeavgcalc = np.array([], dtype = float64)\n",
    "    time_sec_i = np.delete(time_sec,len(time_sec)-1)\n",
    "    time_sec_i_1 = np.delete(time_sec,0)\n",
    "    timeavgcalc = time_sec_i_1- time_sec_i\n",
    "    sigint_avg = np.mean(timeavgcalc)\n",
    "    siginf = 1/(datalength_fft*sigint_avg)\n",
    "    freqhztemp = np.arange(0,datalength_fft,dtype = float64)\n",
    "    freqhz = freqhztemp*siginf\n",
    "    freqhz = freqhz[0:datalengthby2]\n",
    "    vibr_fft = np.abs(fft(vibr,axis = -1))\n",
    "    vibr_fft = ((vibr_fft[0:datalengthby2])/datalength_fft)*2\n",
    "    return freqhz,vibr_fft, max(freqhz)*2"
   ]
  },
  {
   "cell_type": "code",
   "execution_count": 4,
   "metadata": {},
   "outputs": [],
   "source": [
    "#read signal\n",
    "gasforce1 = pd.read_csv('gasforce1.tab', header = None, skiprows = 1, delimiter = '\\t')\n",
    "gasforce1_fft_adams = pd.read_csv('gasforce1_fft_adams.tab', header = None, skiprows = 1, delimiter = '\\t')"
   ]
  },
  {
   "cell_type": "code",
   "execution_count": 9,
   "metadata": {},
   "outputs": [
    {
     "data": {
      "text/plain": [
       "0.00012121400000000001"
      ]
     },
     "execution_count": 9,
     "metadata": {},
     "output_type": "execute_result"
    }
   ],
   "source": [
    "gasforce1[0].values[1] - gasforce1[0].values[0]"
   ]
  },
  {
   "cell_type": "code",
   "execution_count": 10,
   "metadata": {},
   "outputs": [
    {
     "data": {
      "text/plain": [
       "0.00012121299999999998"
      ]
     },
     "execution_count": 10,
     "metadata": {},
     "output_type": "execute_result"
    }
   ],
   "source": [
    "gasforce1[0].values[2] - gasforce1[0].values[1]"
   ]
  },
  {
   "cell_type": "code",
   "execution_count": 11,
   "metadata": {},
   "outputs": [
    {
     "data": {
      "text/plain": [
       "0.00012121400000000002"
      ]
     },
     "execution_count": 11,
     "metadata": {},
     "output_type": "execute_result"
    }
   ],
   "source": [
    "gasforce1[0].values[3] - gasforce1[0].values[2]"
   ]
  },
  {
   "cell_type": "code",
   "execution_count": 13,
   "metadata": {},
   "outputs": [],
   "source": [
    "time_sec_i = np.delete(gasforce1[0].values,len(gasforce1[0].values)-1)"
   ]
  },
  {
   "cell_type": "code",
   "execution_count": 14,
   "metadata": {},
   "outputs": [],
   "source": [
    "time_sec_i_1 = np.delete(gasforce1[0].values,0)"
   ]
  },
  {
   "cell_type": "code",
   "execution_count": 15,
   "metadata": {},
   "outputs": [],
   "source": [
    "timeavgcalc = time_sec_i_1- time_sec_i"
   ]
  },
  {
   "cell_type": "code",
   "execution_count": 17,
   "metadata": {},
   "outputs": [
    {
     "data": {
      "text/plain": [
       "0.0001212135904713419"
      ]
     },
     "execution_count": 17,
     "metadata": {},
     "output_type": "execute_result"
    }
   ],
   "source": [
    "sigint_avg = np.mean(timeavgcalc)\n",
    "sigint_avg"
   ]
  },
  {
   "cell_type": "code",
   "execution_count": null,
   "metadata": {},
   "outputs": [],
   "source": [
    "plt.plot(gasforce1[0],gasforce1[1])\n",
    "plt.show()"
   ]
  },
  {
   "cell_type": "code",
   "execution_count": 33,
   "metadata": {},
   "outputs": [],
   "source": [
    "plt.plot(gasforce1_fft_adams[0].values,gasforce1_fft_adams[1].values)\n",
    "plt.plot(gasforce1_fft_sl[0],gasforce1_fft_sl[1], \"--\")\n",
    "plt.show()"
   ]
  },
  {
   "cell_type": "code",
   "execution_count": 32,
   "metadata": {},
   "outputs": [],
   "source": [
    "gasforce1_fft_sl = evalfreqfftvect(gasforce1[0].values,gasforce1[1].values)"
   ]
  },
  {
   "cell_type": "code",
   "execution_count": 22,
   "metadata": {},
   "outputs": [],
   "source": [
    "gasforce1_fft_adams.drop(gasforce1_fft_adams.tail(1).index,inplace=True)"
   ]
  },
  {
   "cell_type": "code",
   "execution_count": 24,
   "metadata": {},
   "outputs": [],
   "source": [
    "difference_freq = (gasforce1_fft_sl[0] - gasforce1_fft_adams[0].values)\n"
   ]
  },
  {
   "cell_type": "code",
   "execution_count": 25,
   "metadata": {},
   "outputs": [],
   "source": [
    "difference_fft = (gasforce1_fft_sl[1] - gasforce1_fft_adams[1].values)"
   ]
  },
  {
   "cell_type": "code",
   "execution_count": 20,
   "metadata": {},
   "outputs": [
    {
     "data": {
      "text/plain": [
       "82499"
      ]
     },
     "execution_count": 20,
     "metadata": {},
     "output_type": "execute_result"
    }
   ],
   "source": [
    "len(gasforce1_fft_sl[0])"
   ]
  },
  {
   "cell_type": "code",
   "execution_count": 23,
   "metadata": {},
   "outputs": [
    {
     "data": {
      "text/plain": [
       "82499"
      ]
     },
     "execution_count": 23,
     "metadata": {},
     "output_type": "execute_result"
    }
   ],
   "source": [
    "len(gasforce1_fft_adams[0])"
   ]
  },
  {
   "cell_type": "code",
   "execution_count": null,
   "metadata": {},
   "outputs": [],
   "source": [
    "gasforce1_fft_adams[1].values"
   ]
  },
  {
   "cell_type": "code",
   "execution_count": 26,
   "metadata": {},
   "outputs": [
    {
     "data": {
      "image/png": "[encoded data removed]",
      "text/plain": [
       "<matplotlib.figure.Figure at 0xb194da0>"
      ]
     },
     "metadata": {},
     "output_type": "display_data"
    }
   ],
   "source": [
    "plt.plot(gasforce1_fft_sl[0], difference_fft)\n",
    "#plt.plot(gasforce1_fft_sl[0], gasforce1_fft_sl[1])\n",
    "#plt.plot(gasforce1_fft_sl[0], gasforce1_fft_adams[1].values, \"--\")\n",
    "plt.show()"
   ]
  },
  {
   "cell_type": "code",
   "execution_count": null,
   "metadata": {},
   "outputs": [],
   "source": [
    "len(gasforce1_fft_sl[1]),len(gasforce1_fft_adams[1])"
   ]
  },
  {
   "cell_type": "code",
   "execution_count": null,
   "metadata": {},
   "outputs": [],
   "source": [
    "plt.plot(gasforce1_fft_sl[0], gasforce1_fft_sl[1])\n",
    "plt.plot(gasforce1_fft_sl[0], gasforce1_fft_adams[1].values)\n",
    "plt.show()"
   ]
  },
  {
   "cell_type": "code",
   "execution_count": null,
   "metadata": {},
   "outputs": [],
   "source": [
    "gasforce1_fft_sl[1], gasforce1_fft_adams[1].values"
   ]
  },
  {
   "cell_type": "code",
   "execution_count": null,
   "metadata": {},
   "outputs": [],
   "source": [
    "plt.plot(gasforce1_fft_sl[0],gasforce1_fft_sl[1])\n",
    "plt.show()"
   ]
  },
  {
   "cell_type": "code",
   "execution_count": null,
   "metadata": {},
   "outputs": [],
   "source": []
  },
  {
   "cell_type": "code",
   "execution_count": null,
   "metadata": {},
   "outputs": [],
   "source": [
    "gasforce1_ifft_sl = ifft(gasforce1_fft_sl[1])"
   ]
  },
  {
   "cell_type": "code",
   "execution_count": null,
   "metadata": {},
   "outputs": [],
   "source": [
    "len(gasforce1_ifft_sl)"
   ]
  },
  {
   "cell_type": "code",
   "execution_count": null,
   "metadata": {},
   "outputs": [],
   "source": [
    "plt.plot(abs(gasforce1_ifft_sl))\n",
    "plt.show()"
   ]
  },
  {
   "cell_type": "code",
   "execution_count": null,
   "metadata": {},
   "outputs": [],
   "source": [
    "def eval_rms_ampl(time_sec, speed_rpm, vibr):\n",
    "    datalength = len(speed_rpm)\n",
    "    crankanglecum = np.array([0], dtype = float64)\n",
    "    for i in np.arange(1, datalength):\n",
    "        crankanglecum = np.append(crankanglecum, (crankanglecum[i-1]+(((speed_rpm[i-1]/2)/60)*360*(time_sec[i]-time_sec[i-1]))))\n",
    "    cycle = np.array([1], dtype = int)\n",
    "    crankanglerel = np.array([0], dtype = float64)\n",
    "    for i in np.arange(1,datalength):\n",
    "        cycle = (np.append(cycle, np.floor(((crankanglecum[i]/720.0))+1)))\n",
    "        crankanglerel = np.append(crankanglerel, (crankanglecum[i]-(cycle[i]-1)*720))\n",
    "    maxcy = max(cycle)\n",
    "    alldata = np.stack((cycle, time_sec, speed_rpm, vibr), axis = 1)\n",
    "    e, inds = np.unique(alldata[:,0], return_index=True)\n",
    "    alldata_cycle = np.split(alldata, inds)[1:]\n",
    "    speedindex = np.array([], dtype = float64)\n",
    "    rms_vibr = np.array([], dtype = float64)\n",
    "    ampl_vibr = np.array([], dtype = float64)\n",
    "    time_interval = np.array([], dtype = float64)\n",
    "    freqhz3d = np.array([], dtype = float64)\n",
    "    vibrfft3d = np.array([], dtype = float64)\n",
    "    fs = = np.array([], dtype = float64)\n",
    "    for i in np.arange(0,maxcy):\n",
    "        y = int(i)\n",
    "        speedindex = (np.append(speedindex,(np.mean(alldata_cycle[y][:,2]))))\n",
    "        rms_vibr = (np.append(rms_vibr,(np.sqrt(np.mean(np.square((alldata_cycle[y][:,3])))))))\n",
    "        ampl_vibr = (np.append(ampl_vibr,((max(((alldata_cycle[y][:3])))-min(((alldata_cycle[y][:,3]))))/2)))\n",
    "        freqhztemp,vibrtemp,fstemp = eval_freqfft(alldata_cycle[y][:,1],alldata_cycle[y][:,3])\n",
    "        freqhz3d = np.hstack((freqhz3d,freqhztemp))\n",
    "        vibrfft3d = np.hstack((vibrfft3d,vibrtemp))\n",
    "    freqvibr3d = np.transpose(np.vstack((freqhz3d, vibrfft3d)))\n",
    "    freqvibr3dspl = np.split(freqvibr3d, np.argwhere(freqvibr3d[:,0] == 0.0).flatten()[1:])\n",
    "    freqvibr3d_freq_interp = np.array([], dtype = float64)\n",
    "    freqvibr3d_vibr_interp = np.array([], dtype = float64)\n",
    "    for y in np.arange(0,int(maxcy)):\n",
    "        funcakimainterp = interpolate.Akima1DInterpolator(freqvibr3dspl[y][:,0], freqvbr3dspl[y][:1])\n",
    "        freqvibr3d_freq_interptemp = np.arange(0,(ceil(max(freqvibr3dspl[int{maxcy}-1][:,0]))+10),10)\n",
    "        freqvibr3d_vibr_interptemp = funcakimainterp(freqvibr3d_freq_interptemp)\n",
    "        freqvibr3d_freq_interp = np.append(freqvibr3d_freq_interp, freqvibr3d_freq_interptemp)\n",
    "        freqvibr3d_vibr_interp = np.append(freqvibr3d_vibr_interp, freqvibr3d_vibr_interptemp)\n",
    "    freqvibr3dv2 = np.transpose(np.vstack((freqvibr3d_freq_interp, freqvibr3d_vibr_interp)))\n",
    "    freqvibr3dsplv2 = np.split(freqvibr3dv2, np.argwhere(freqvibr3dv2[:,0] == 0.0).flatten()[1:])\n",
    "    temponesval = int(len(freqvibr3dsplv2[0]))\n",
    "    freqvibr3dsplv2x = np.array([], dtype = float64)\n",
    "    freqvibr3dsplv2y = np.array([], dtype = float64)\n",
    "    freqvibr3dsplv2z = np.array([], dtype = float64)\n",
    "    for i in arange(0,int(max(cycle))):\n",
    "        freqvibr3dsplv2x = np.vstack((freqvibr3dsplv2x,freqvibr3dsplv2x[i][:,0]))\n",
    "        freqvibr3dsplv2y = np.vstack((freqvibr3dsplv2y,speedindex[i]*np.ones(temponesval)))\n",
    "        freqvibr3dsplv2z = np.vstack((freqvibr3dsplv2z,freqvibr3dsplv2[i],[:,1]))\n",
    "    freqvibr3dsplv2x = np.delete(freqvibr3dsplv2x,0,0)\n",
    "    freqvibr3dsplv2y = np.delete(freqvibr3dsplv2y,0,0)\n",
    "    freqvibr3dsplv2z = np.delete(freqvibr3dsplv2z,0,0)\n",
    "    return speedindex,rms_vibr,ampl_vibr,cycle,freqvibr3dsplv2x,freqvibr3dsplv2y,freqvibr3dsplv2z"
   ]
  }
 ],
 "metadata": {
  "kernelspec": {
   "display_name": "Python 3",
   "language": "python",
   "name": "python3"
  },
  "language_info": {
   "codemirror_mode": {
    "name": "ipython",
    "version": 3
   },
   "file_extension": ".py",
   "mimetype": "text/x-python",
   "name": "python",
   "nbconvert_exporter": "python",
   "pygments_lexer": "ipython3",
   "version": "3.6.4"
  }
 },
 "nbformat": 4,
 "nbformat_minor": 2
}
