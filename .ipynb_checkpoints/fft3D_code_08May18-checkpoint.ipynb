{
 "cells": [
  {
   "cell_type": "code",
   "execution_count": 8,
   "metadata": {},
   "outputs": [],
   "source": [
    "import numpy as np\n",
    "from scipy.fftpack import fft, ifft\n",
    "from scipy.signal import butter, lfilter\n",
    "import matplotlib.pyplot as plt\n",
    "from pylab import *\n",
    "\n",
    "\n",
    "from time import perf_counter\n",
    "import pandas as pd\n",
    "\n",
    "%matplotlib qt"
   ]
  },
  {
   "cell_type": "code",
   "execution_count": null,
   "metadata": {},
   "outputs": [],
   "source": []
  },
  {
   "cell_type": "code",
   "execution_count": 2,
   "metadata": {},
   "outputs": [],
   "source": [
    "#Vectorised Code\n",
    "def evalfreqfftvect(time_sec, vibr):\n",
    "    datalength_fft = len(time_sec)\n",
    "    datalengthby2 = int(datalength_fft/2)\n",
    "    timeavgcalc = np.array([], dtype = float64)\n",
    "    time_sec_i = time_sec[1:]\n",
    "    time_sec_i_1 = time_sec[:-1]\n",
    "    timeavgcalc = time_sec_i- time_sec_i_1\n",
    "    sigint_avg = np.mean(timeavgcalc)\n",
    "    siginf = 1/(datalength_fft*sigint_avg)\n",
    "    freqhztemp = np.arange(0,datalength_fft,dtype = float64)\n",
    "    freqhz = freqhztemp*siginf\n",
    "    freqhz = freqhz[0:datalengthby2]\n",
    "    vibr_fft = np.abs(fft(vibr,axis = -1))\n",
    "    vibr_fft = ((vibr_fft[0:datalengthby2])/datalength_fft)*2\n",
    "    return freqhz,vibr_fft, max(freqhz)*2"
   ]
  },
  {
   "cell_type": "code",
   "execution_count": null,
   "metadata": {},
   "outputs": [],
   "source": []
  },
  {
   "cell_type": "code",
   "execution_count": 3,
   "metadata": {},
   "outputs": [],
   "source": [
    "#read signal\n",
    "gasforce1 = pd.read_csv('gasforce1.tab', header = None, skiprows = 1, delimiter = '\\t')\n",
    "gasforce1_fft_adams = pd.read_csv('gasforce1_fft_adams.tab', header = None, skiprows = 1, delimiter = '\\t')\n",
    "speedvstime = pd.read_csv('speedvstime.tab', header = None, skiprows = 1, delimiter = '\\t')"
   ]
  },
  {
   "cell_type": "code",
   "execution_count": 4,
   "metadata": {},
   "outputs": [
    {
     "data": {
      "image/png": "[encoded data removed]",
      "text/plain": [
       "<matplotlib.figure.Figure at 0xaab9400>"
      ]
     },
     "metadata": {},
     "output_type": "display_data"
    }
   ],
   "source": [
    "plt.plot(speedvstime[0],speedvstime[1])\n",
    "plt.show()"
   ]
  },
  {
   "cell_type": "code",
   "execution_count": 5,
   "metadata": {},
   "outputs": [
    {
     "data": {
      "text/html": [
       "<div>\n",
       "<style scoped>\n",
       "    .dataframe tbody tr th:only-of-type {\n",
       "        vertical-align: middle;\n",
       "    }\n",
       "\n",
       "    .dataframe tbody tr th {\n",
       "        vertical-align: top;\n",
       "    }\n",
       "\n",
       "    .dataframe thead th {\n",
       "        text-align: right;\n",
       "    }\n",
       "</style>\n",
       "<table border=\"1\" class=\"dataframe\">\n",
       "  <thead>\n",
       "    <tr style=\"text-align: right;\">\n",
       "      <th></th>\n",
       "      <th>0</th>\n",
       "      <th>1</th>\n",
       "    </tr>\n",
       "  </thead>\n",
       "  <tbody>\n",
       "    <tr>\n",
       "      <th>0</th>\n",
       "      <td>0.000121</td>\n",
       "      <td>20.5422</td>\n",
       "    </tr>\n",
       "    <tr>\n",
       "      <th>1</th>\n",
       "      <td>0.000242</td>\n",
       "      <td>277.0020</td>\n",
       "    </tr>\n",
       "    <tr>\n",
       "      <th>2</th>\n",
       "      <td>0.000364</td>\n",
       "      <td>767.8620</td>\n",
       "    </tr>\n",
       "    <tr>\n",
       "      <th>3</th>\n",
       "      <td>0.000485</td>\n",
       "      <td>1575.9800</td>\n",
       "    </tr>\n",
       "    <tr>\n",
       "      <th>4</th>\n",
       "      <td>0.000606</td>\n",
       "      <td>2668.0700</td>\n",
       "    </tr>\n",
       "    <tr>\n",
       "      <th>5</th>\n",
       "      <td>0.000727</td>\n",
       "      <td>4030.7700</td>\n",
       "    </tr>\n",
       "    <tr>\n",
       "      <th>6</th>\n",
       "      <td>0.000848</td>\n",
       "      <td>6537.2800</td>\n",
       "    </tr>\n",
       "    <tr>\n",
       "      <th>7</th>\n",
       "      <td>0.000970</td>\n",
       "      <td>8479.0500</td>\n",
       "    </tr>\n",
       "    <tr>\n",
       "      <th>8</th>\n",
       "      <td>0.001091</td>\n",
       "      <td>11725.3000</td>\n",
       "    </tr>\n",
       "    <tr>\n",
       "      <th>9</th>\n",
       "      <td>0.001212</td>\n",
       "      <td>15274.8000</td>\n",
       "    </tr>\n",
       "    <tr>\n",
       "      <th>10</th>\n",
       "      <td>0.001333</td>\n",
       "      <td>19014.3000</td>\n",
       "    </tr>\n",
       "    <tr>\n",
       "      <th>11</th>\n",
       "      <td>0.001455</td>\n",
       "      <td>22831.5000</td>\n",
       "    </tr>\n",
       "    <tr>\n",
       "      <th>12</th>\n",
       "      <td>0.001576</td>\n",
       "      <td>26621.5000</td>\n",
       "    </tr>\n",
       "    <tr>\n",
       "      <th>13</th>\n",
       "      <td>0.001697</td>\n",
       "      <td>30285.4000</td>\n",
       "    </tr>\n",
       "    <tr>\n",
       "      <th>14</th>\n",
       "      <td>0.001818</td>\n",
       "      <td>34826.4000</td>\n",
       "    </tr>\n",
       "    <tr>\n",
       "      <th>15</th>\n",
       "      <td>0.001939</td>\n",
       "      <td>37883.0000</td>\n",
       "    </tr>\n",
       "    <tr>\n",
       "      <th>16</th>\n",
       "      <td>0.002061</td>\n",
       "      <td>41391.6000</td>\n",
       "    </tr>\n",
       "    <tr>\n",
       "      <th>17</th>\n",
       "      <td>0.002182</td>\n",
       "      <td>43551.4000</td>\n",
       "    </tr>\n",
       "    <tr>\n",
       "      <th>18</th>\n",
       "      <td>0.002303</td>\n",
       "      <td>45771.8000</td>\n",
       "    </tr>\n",
       "    <tr>\n",
       "      <th>19</th>\n",
       "      <td>0.002424</td>\n",
       "      <td>46943.2000</td>\n",
       "    </tr>\n",
       "    <tr>\n",
       "      <th>20</th>\n",
       "      <td>0.002545</td>\n",
       "      <td>47879.0000</td>\n",
       "    </tr>\n",
       "    <tr>\n",
       "      <th>21</th>\n",
       "      <td>0.002667</td>\n",
       "      <td>48177.1000</td>\n",
       "    </tr>\n",
       "    <tr>\n",
       "      <th>22</th>\n",
       "      <td>0.002788</td>\n",
       "      <td>47959.0000</td>\n",
       "    </tr>\n",
       "    <tr>\n",
       "      <th>23</th>\n",
       "      <td>0.002909</td>\n",
       "      <td>47376.4000</td>\n",
       "    </tr>\n",
       "    <tr>\n",
       "      <th>24</th>\n",
       "      <td>0.003030</td>\n",
       "      <td>46810.9000</td>\n",
       "    </tr>\n",
       "    <tr>\n",
       "      <th>25</th>\n",
       "      <td>0.003152</td>\n",
       "      <td>45988.9000</td>\n",
       "    </tr>\n",
       "    <tr>\n",
       "      <th>26</th>\n",
       "      <td>0.003273</td>\n",
       "      <td>45105.1000</td>\n",
       "    </tr>\n",
       "    <tr>\n",
       "      <th>27</th>\n",
       "      <td>0.003394</td>\n",
       "      <td>44171.9000</td>\n",
       "    </tr>\n",
       "    <tr>\n",
       "      <th>28</th>\n",
       "      <td>0.003515</td>\n",
       "      <td>42957.8000</td>\n",
       "    </tr>\n",
       "    <tr>\n",
       "      <th>29</th>\n",
       "      <td>0.003636</td>\n",
       "      <td>41962.2000</td>\n",
       "    </tr>\n",
       "    <tr>\n",
       "      <th>...</th>\n",
       "      <td>...</td>\n",
       "      <td>...</td>\n",
       "    </tr>\n",
       "    <tr>\n",
       "      <th>164968</th>\n",
       "      <td>19.996500</td>\n",
       "      <td>2687.0200</td>\n",
       "    </tr>\n",
       "    <tr>\n",
       "      <th>164969</th>\n",
       "      <td>19.996600</td>\n",
       "      <td>2559.0100</td>\n",
       "    </tr>\n",
       "    <tr>\n",
       "      <th>164970</th>\n",
       "      <td>19.996700</td>\n",
       "      <td>2468.8700</td>\n",
       "    </tr>\n",
       "    <tr>\n",
       "      <th>164971</th>\n",
       "      <td>19.996800</td>\n",
       "      <td>2361.6200</td>\n",
       "    </tr>\n",
       "    <tr>\n",
       "      <th>164972</th>\n",
       "      <td>19.997000</td>\n",
       "      <td>2292.4800</td>\n",
       "    </tr>\n",
       "    <tr>\n",
       "      <th>164973</th>\n",
       "      <td>19.997100</td>\n",
       "      <td>2174.3700</td>\n",
       "    </tr>\n",
       "    <tr>\n",
       "      <th>164974</th>\n",
       "      <td>19.997200</td>\n",
       "      <td>2101.6400</td>\n",
       "    </tr>\n",
       "    <tr>\n",
       "      <th>164975</th>\n",
       "      <td>19.997300</td>\n",
       "      <td>1988.4500</td>\n",
       "    </tr>\n",
       "    <tr>\n",
       "      <th>164976</th>\n",
       "      <td>19.997500</td>\n",
       "      <td>1875.9200</td>\n",
       "    </tr>\n",
       "    <tr>\n",
       "      <th>164977</th>\n",
       "      <td>19.997600</td>\n",
       "      <td>1815.0100</td>\n",
       "    </tr>\n",
       "    <tr>\n",
       "      <th>164978</th>\n",
       "      <td>19.997700</td>\n",
       "      <td>1720.8600</td>\n",
       "    </tr>\n",
       "    <tr>\n",
       "      <th>164979</th>\n",
       "      <td>19.997800</td>\n",
       "      <td>1646.2000</td>\n",
       "    </tr>\n",
       "    <tr>\n",
       "      <th>164980</th>\n",
       "      <td>19.997900</td>\n",
       "      <td>1556.1100</td>\n",
       "    </tr>\n",
       "    <tr>\n",
       "      <th>164981</th>\n",
       "      <td>19.998100</td>\n",
       "      <td>1537.3900</td>\n",
       "    </tr>\n",
       "    <tr>\n",
       "      <th>164982</th>\n",
       "      <td>19.998200</td>\n",
       "      <td>1495.2300</td>\n",
       "    </tr>\n",
       "    <tr>\n",
       "      <th>164983</th>\n",
       "      <td>19.998300</td>\n",
       "      <td>1421.5400</td>\n",
       "    </tr>\n",
       "    <tr>\n",
       "      <th>164984</th>\n",
       "      <td>19.998400</td>\n",
       "      <td>1340.5500</td>\n",
       "    </tr>\n",
       "    <tr>\n",
       "      <th>164985</th>\n",
       "      <td>19.998500</td>\n",
       "      <td>1318.6500</td>\n",
       "    </tr>\n",
       "    <tr>\n",
       "      <th>164986</th>\n",
       "      <td>19.998700</td>\n",
       "      <td>1286.8800</td>\n",
       "    </tr>\n",
       "    <tr>\n",
       "      <th>164987</th>\n",
       "      <td>19.998800</td>\n",
       "      <td>1238.8100</td>\n",
       "    </tr>\n",
       "    <tr>\n",
       "      <th>164988</th>\n",
       "      <td>19.998900</td>\n",
       "      <td>1229.1000</td>\n",
       "    </tr>\n",
       "    <tr>\n",
       "      <th>164989</th>\n",
       "      <td>19.999000</td>\n",
       "      <td>1223.7900</td>\n",
       "    </tr>\n",
       "    <tr>\n",
       "      <th>164990</th>\n",
       "      <td>19.999200</td>\n",
       "      <td>1227.9600</td>\n",
       "    </tr>\n",
       "    <tr>\n",
       "      <th>164991</th>\n",
       "      <td>19.999300</td>\n",
       "      <td>1243.5500</td>\n",
       "    </tr>\n",
       "    <tr>\n",
       "      <th>164992</th>\n",
       "      <td>19.999400</td>\n",
       "      <td>1257.9900</td>\n",
       "    </tr>\n",
       "    <tr>\n",
       "      <th>164993</th>\n",
       "      <td>19.999500</td>\n",
       "      <td>1257.9000</td>\n",
       "    </tr>\n",
       "    <tr>\n",
       "      <th>164994</th>\n",
       "      <td>19.999600</td>\n",
       "      <td>1263.5000</td>\n",
       "    </tr>\n",
       "    <tr>\n",
       "      <th>164995</th>\n",
       "      <td>19.999800</td>\n",
       "      <td>1280.9600</td>\n",
       "    </tr>\n",
       "    <tr>\n",
       "      <th>164996</th>\n",
       "      <td>19.999900</td>\n",
       "      <td>1303.0500</td>\n",
       "    </tr>\n",
       "    <tr>\n",
       "      <th>164997</th>\n",
       "      <td>20.000000</td>\n",
       "      <td>1306.1900</td>\n",
       "    </tr>\n",
       "  </tbody>\n",
       "</table>\n",
       "<p>164998 rows × 2 columns</p>\n",
       "</div>"
      ],
      "text/plain": [
       "                0           1\n",
       "0        0.000121     20.5422\n",
       "1        0.000242    277.0020\n",
       "2        0.000364    767.8620\n",
       "3        0.000485   1575.9800\n",
       "4        0.000606   2668.0700\n",
       "5        0.000727   4030.7700\n",
       "6        0.000848   6537.2800\n",
       "7        0.000970   8479.0500\n",
       "8        0.001091  11725.3000\n",
       "9        0.001212  15274.8000\n",
       "10       0.001333  19014.3000\n",
       "11       0.001455  22831.5000\n",
       "12       0.001576  26621.5000\n",
       "13       0.001697  30285.4000\n",
       "14       0.001818  34826.4000\n",
       "15       0.001939  37883.0000\n",
       "16       0.002061  41391.6000\n",
       "17       0.002182  43551.4000\n",
       "18       0.002303  45771.8000\n",
       "19       0.002424  46943.2000\n",
       "20       0.002545  47879.0000\n",
       "21       0.002667  48177.1000\n",
       "22       0.002788  47959.0000\n",
       "23       0.002909  47376.4000\n",
       "24       0.003030  46810.9000\n",
       "25       0.003152  45988.9000\n",
       "26       0.003273  45105.1000\n",
       "27       0.003394  44171.9000\n",
       "28       0.003515  42957.8000\n",
       "29       0.003636  41962.2000\n",
       "...           ...         ...\n",
       "164968  19.996500   2687.0200\n",
       "164969  19.996600   2559.0100\n",
       "164970  19.996700   2468.8700\n",
       "164971  19.996800   2361.6200\n",
       "164972  19.997000   2292.4800\n",
       "164973  19.997100   2174.3700\n",
       "164974  19.997200   2101.6400\n",
       "164975  19.997300   1988.4500\n",
       "164976  19.997500   1875.9200\n",
       "164977  19.997600   1815.0100\n",
       "164978  19.997700   1720.8600\n",
       "164979  19.997800   1646.2000\n",
       "164980  19.997900   1556.1100\n",
       "164981  19.998100   1537.3900\n",
       "164982  19.998200   1495.2300\n",
       "164983  19.998300   1421.5400\n",
       "164984  19.998400   1340.5500\n",
       "164985  19.998500   1318.6500\n",
       "164986  19.998700   1286.8800\n",
       "164987  19.998800   1238.8100\n",
       "164988  19.998900   1229.1000\n",
       "164989  19.999000   1223.7900\n",
       "164990  19.999200   1227.9600\n",
       "164991  19.999300   1243.5500\n",
       "164992  19.999400   1257.9900\n",
       "164993  19.999500   1257.9000\n",
       "164994  19.999600   1263.5000\n",
       "164995  19.999800   1280.9600\n",
       "164996  19.999900   1303.0500\n",
       "164997  20.000000   1306.1900\n",
       "\n",
       "[164998 rows x 2 columns]"
      ]
     },
     "execution_count": 5,
     "metadata": {},
     "output_type": "execute_result"
    }
   ],
   "source": [
    "gasforce1"
   ]
  },
  {
   "cell_type": "code",
   "execution_count": null,
   "metadata": {},
   "outputs": [],
   "source": []
  },
  {
   "cell_type": "code",
   "execution_count": null,
   "metadata": {},
   "outputs": [],
   "source": [
    "gasforce1[0].values[1] - gasforce1[0].values[0]"
   ]
  },
  {
   "cell_type": "code",
   "execution_count": null,
   "metadata": {},
   "outputs": [],
   "source": [
    "gasforce1[0].values[2] - gasforce1[0].values[1]"
   ]
  },
  {
   "cell_type": "code",
   "execution_count": null,
   "metadata": {},
   "outputs": [],
   "source": [
    "gasforce1[0].values[3] - gasforce1[0].values[2]"
   ]
  },
  {
   "cell_type": "code",
   "execution_count": null,
   "metadata": {},
   "outputs": [],
   "source": [
    "time_sec_i = np.delete(gasforce1[0].values,len(gasforce1[0].values)-1)"
   ]
  },
  {
   "cell_type": "code",
   "execution_count": null,
   "metadata": {},
   "outputs": [],
   "source": [
    "time_sec_i_1 = np.delete(gasforce1[0].values,0)"
   ]
  },
  {
   "cell_type": "code",
   "execution_count": null,
   "metadata": {},
   "outputs": [],
   "source": [
    "timeavgcalc = time_sec_i_1- time_sec_i"
   ]
  },
  {
   "cell_type": "code",
   "execution_count": null,
   "metadata": {},
   "outputs": [],
   "source": [
    "sigint_avg = np.mean(timeavgcalc)\n",
    "sigint_avg"
   ]
  },
  {
   "cell_type": "code",
   "execution_count": null,
   "metadata": {},
   "outputs": [],
   "source": [
    "plt.plot(gasforce1[0],gasforce1[1])\n",
    "plt.show()"
   ]
  },
  {
   "cell_type": "code",
   "execution_count": 9,
   "metadata": {},
   "outputs": [],
   "source": [
    "plt.plot(gasforce1_fft_adams[0].values,gasforce1_fft_adams[1].values)\n",
    "plt.plot(gasforce1_fft_sl[0],gasforce1_fft_sl[1], \"--\")\n",
    "plt.show()"
   ]
  },
  {
   "cell_type": "code",
   "execution_count": 6,
   "metadata": {},
   "outputs": [],
   "source": [
    "gasforce1_fft_sl = evalfreqfftvect(gasforce1[0].values,gasforce1[1].values)"
   ]
  },
  {
   "cell_type": "code",
   "execution_count": 11,
   "metadata": {},
   "outputs": [],
   "source": [
    "gasforce1_fft_adams.drop(gasforce1_fft_adams.tail(1).index,inplace=True)"
   ]
  },
  {
   "cell_type": "code",
   "execution_count": 12,
   "metadata": {},
   "outputs": [],
   "source": [
    "difference_freq = (gasforce1_fft_sl[0] - gasforce1_fft_adams[0].values)\n"
   ]
  },
  {
   "cell_type": "code",
   "execution_count": 13,
   "metadata": {},
   "outputs": [],
   "source": [
    "difference_fft = (gasforce1_fft_sl[1] - gasforce1_fft_adams[1].values)"
   ]
  },
  {
   "cell_type": "code",
   "execution_count": 14,
   "metadata": {},
   "outputs": [
    {
     "data": {
      "text/plain": [
       "82499"
      ]
     },
     "execution_count": 14,
     "metadata": {},
     "output_type": "execute_result"
    }
   ],
   "source": [
    "len(gasforce1_fft_sl[0])"
   ]
  },
  {
   "cell_type": "code",
   "execution_count": 15,
   "metadata": {},
   "outputs": [
    {
     "data": {
      "text/plain": [
       "82499"
      ]
     },
     "execution_count": 15,
     "metadata": {},
     "output_type": "execute_result"
    }
   ],
   "source": [
    "len(gasforce1_fft_adams[0])"
   ]
  },
  {
   "cell_type": "code",
   "execution_count": 16,
   "metadata": {},
   "outputs": [
    {
     "data": {
      "text/plain": [
       "array([1.120652e+04, 1.257923e+03, 7.210245e+02, ..., 8.508930e-01,\n",
       "       8.282623e-01, 6.071168e-01])"
      ]
     },
     "execution_count": 16,
     "metadata": {},
     "output_type": "execute_result"
    }
   ],
   "source": [
    "gasforce1_fft_adams[1].values"
   ]
  },
  {
   "cell_type": "code",
   "execution_count": 17,
   "metadata": {},
   "outputs": [],
   "source": [
    "plt.plot(gasforce1_fft_sl[0], difference_fft)\n",
    "#plt.plot(gasforce1_fft_sl[0], gasforce1_fft_sl[1])\n",
    "#plt.plot(gasforce1_fft_sl[0], gasforce1_fft_adams[1].values, \"--\")\n",
    "plt.show()"
   ]
  },
  {
   "cell_type": "code",
   "execution_count": 18,
   "metadata": {},
   "outputs": [
    {
     "data": {
      "text/plain": [
       "(82499, 82499)"
      ]
     },
     "execution_count": 18,
     "metadata": {},
     "output_type": "execute_result"
    }
   ],
   "source": [
    "len(gasforce1_fft_sl[1]),len(gasforce1_fft_adams[1])"
   ]
  },
  {
   "cell_type": "code",
   "execution_count": 19,
   "metadata": {},
   "outputs": [],
   "source": [
    "plt.plot(gasforce1_fft_sl[0], gasforce1_fft_sl[1])\n",
    "plt.plot(gasforce1_fft_sl[0], gasforce1_fft_adams[1].values)\n",
    "plt.show()"
   ]
  },
  {
   "cell_type": "code",
   "execution_count": 20,
   "metadata": {},
   "outputs": [
    {
     "data": {
      "text/plain": [
       "(array([1.12068468e+04, 1.25786581e+03, 7.20834438e+02, ...,\n",
       "        5.38154702e-01, 5.88821660e-01, 5.84099932e-01]),\n",
       " array([1.120652e+04, 1.257923e+03, 7.210245e+02, ..., 8.508930e-01,\n",
       "        8.282623e-01, 6.071168e-01]))"
      ]
     },
     "execution_count": 20,
     "metadata": {},
     "output_type": "execute_result"
    }
   ],
   "source": [
    "gasforce1_fft_sl[1], gasforce1_fft_adams[1].values"
   ]
  },
  {
   "cell_type": "code",
   "execution_count": null,
   "metadata": {},
   "outputs": [],
   "source": [
    "plt.plot(gasforce1_fft_sl[0],gasforce1_fft_sl[1])\n",
    "plt.show()"
   ]
  },
  {
   "cell_type": "code",
   "execution_count": null,
   "metadata": {},
   "outputs": [],
   "source": []
  },
  {
   "cell_type": "code",
   "execution_count": null,
   "metadata": {},
   "outputs": [],
   "source": [
    "gasforce1_ifft_sl = ifft(gasforce1_fft_sl[1])"
   ]
  },
  {
   "cell_type": "code",
   "execution_count": null,
   "metadata": {},
   "outputs": [],
   "source": [
    "len(gasforce1_ifft_sl)"
   ]
  },
  {
   "cell_type": "code",
   "execution_count": null,
   "metadata": {},
   "outputs": [],
   "source": [
    "plt.plot(abs(gasforce1_ifft_sl))\n",
    "plt.show()"
   ]
  },
  {
   "cell_type": "code",
   "execution_count": null,
   "metadata": {},
   "outputs": [],
   "source": [
    "def eval_rms_ampl(time_sec, speed_rpm, vibr):\n",
    "    datalength = len(speed_rpm)\n",
    "    crankanglecum = np.array([0], dtype = float64)\n",
    "    for i in np.arange(1, datalength):\n",
    "        crankanglecum = np.append(crankanglecum, (crankanglecum[i-1]+(((speed_rpm[i-1]/2)/60)*360*(time_sec[i]-time_sec[i-1]))))\n",
    "    cycle = np.array([1], dtype = int)\n",
    "    crankanglerel = np.array([0], dtype = float64)\n",
    "    for i in np.arange(1,datalength):\n",
    "        cycle = (np.append(cycle, np.floor(((crankanglecum[i]/720.0))+1)))\n",
    "        crankanglerel = np.append(crankanglerel, (crankanglecum[i]-(cycle[i]-1)*720))\n",
    "    maxcy = max(cycle)\n",
    "    alldata = np.stack((cycle, time_sec, speed_rpm, vibr), axis = 1)\n",
    "    e, inds = np.unique(alldata[:,0], return_index=True)\n",
    "    alldata_cycle = np.split(alldata, inds)[1:]\n",
    "    speedindex = np.array([], dtype = float64)\n",
    "    rms_vibr = np.array([], dtype = float64)\n",
    "    ampl_vibr = np.array([], dtype = float64)\n",
    "    time_interval = np.array([], dtype = float64)\n",
    "    freqhz3d = np.array([], dtype = float64)\n",
    "    vibrfft3d = np.array([], dtype = float64)\n",
    "    fs = = np.array([], dtype = float64)\n",
    "    for i in np.arange(0,maxcy):\n",
    "        y = int(i)\n",
    "        speedindex = (np.append(speedindex,(np.mean(alldata_cycle[y][:,2]))))\n",
    "        rms_vibr = (np.append(rms_vibr,(np.sqrt(np.mean(np.square((alldata_cycle[y][:,3])))))))\n",
    "        ampl_vibr = (np.append(ampl_vibr,((max(((alldata_cycle[y][:3])))-min(((alldata_cycle[y][:,3]))))/2)))\n",
    "        freqhztemp,vibrtemp,fstemp = eval_freqfft(alldata_cycle[y][:,1],alldata_cycle[y][:,3])\n",
    "        freqhz3d = np.hstack((freqhz3d,freqhztemp))\n",
    "        vibrfft3d = np.hstack((vibrfft3d,vibrtemp))\n",
    "    freqvibr3d = np.transpose(np.vstack((freqhz3d, vibrfft3d)))\n",
    "    freqvibr3dspl = np.split(freqvibr3d, np.argwhere(freqvibr3d[:,0] == 0.0).flatten()[1:])\n",
    "    freqvibr3d_freq_interp = np.array([], dtype = float64)\n",
    "    freqvibr3d_vibr_interp = np.array([], dtype = float64)\n",
    "    for y in np.arange(0,int(maxcy)):\n",
    "        funcakimainterp = interpolate.Akima1DInterpolator(freqvibr3dspl[y][:,0], freqvbr3dspl[y][:1])\n",
    "        freqvibr3d_freq_interptemp = np.arange(0,(ceil(max(freqvibr3dspl[int{maxcy}-1][:,0]))+10),10)\n",
    "        freqvibr3d_vibr_interptemp = funcakimainterp(freqvibr3d_freq_interptemp)\n",
    "        freqvibr3d_freq_interp = np.append(freqvibr3d_freq_interp, freqvibr3d_freq_interptemp)\n",
    "        freqvibr3d_vibr_interp = np.append(freqvibr3d_vibr_interp, freqvibr3d_vibr_interptemp)\n",
    "    freqvibr3dv2 = np.transpose(np.vstack((freqvibr3d_freq_interp, freqvibr3d_vibr_interp)))\n",
    "    freqvibr3dsplv2 = np.split(freqvibr3dv2, np.argwhere(freqvibr3dv2[:,0] == 0.0).flatten()[1:])\n",
    "    temponesval = int(len(freqvibr3dsplv2[0]))\n",
    "    freqvibr3dsplv2x = np.array([], dtype = float64)\n",
    "    freqvibr3dsplv2y = np.array([], dtype = float64)\n",
    "    freqvibr3dsplv2z = np.array([], dtype = float64)\n",
    "    for i in arange(0,int(max(cycle))):\n",
    "        freqvibr3dsplv2x = np.vstack((freqvibr3dsplv2x,freqvibr3dsplv2x[i][:,0]))\n",
    "        freqvibr3dsplv2y = np.vstack((freqvibr3dsplv2y,speedindex[i]*np.ones(temponesval)))\n",
    "        freqvibr3dsplv2z = np.vstack((freqvibr3dsplv2z,freqvibr3dsplv2[i],[:,1]))\n",
    "    freqvibr3dsplv2x = np.delete(freqvibr3dsplv2x,0,0)\n",
    "    freqvibr3dsplv2y = np.delete(freqvibr3dsplv2y,0,0)\n",
    "    freqvibr3dsplv2z = np.delete(freqvibr3dsplv2z,0,0)\n",
    "    return speedindex,rms_vibr,ampl_vibr,cycle,freqvibr3dsplv2x,freqvibr3dsplv2y,freqvibr3dsplv2z"
   ]
  },
  {
   "cell_type": "code",
   "execution_count": null,
   "metadata": {},
   "outputs": [],
   "source": []
  },
  {
   "cell_type": "code",
   "execution_count": null,
   "metadata": {},
   "outputs": [],
   "source": [
    "def eval_rms_ampl(time_sec, speed_rpm, vibr):\n",
    "    datalength = len(speed_rpm)\n",
    "    crankanglecum = np.array([0], dtype = float64)\n",
    "    for i in np.arange(1, datalength):\n",
    "        crankanglecum = np.append(crankanglecum,\n",
    "                                  (crankanglecum[i-1]+(((speed_rpm[i-1]/2)/60)*360*(time_sec[i]-time_sec[i-1]))))\n",
    "    cycle = np.array([1], dtype = int)\n",
    "    crankanglerel = np.array([0], dtype = float64)\n",
    "    for i in np.arange(1,datalength):\n",
    "        cycle = (np.append(cycle, np.floor(((crankanglecum[i]/720.0))+1)))\n",
    "        crankanglerel = np.append(crankanglerel, (crankanglecum[i]-(cycle[i]-1)*720))\n",
    "    return cycle, crankanglerel, crankanglecum"
   ]
  },
  {
   "cell_type": "code",
   "execution_count": null,
   "metadata": {},
   "outputs": [],
   "source": [
    "t1_start = time.perf_counter()\n",
    "trial1 = eval_rms_ampl(gasforce1[0],speedvstime[1],gasforce1[1])\n",
    "t1_end = time.perf_counter()\n",
    "\n",
    "t2_start = time.perf_counter()\n",
    "trial2 = eval_rms_ampl(gasforce1[0],speedvstime[1],gasforce1[1])\n",
    "t2_end = time.perf_counter()\n",
    "\n",
    "t3_start = time.perf_counter()\n",
    "trial3 = eval_rms_ampl(gasforce1[0],speedvstime[1],gasforce1[1])\n",
    "t3_end = time.perf_counter()"
   ]
  },
  {
   "cell_type": "code",
   "execution_count": null,
   "metadata": {},
   "outputs": [],
   "source": [
    "t1 = -1*(t1_start - t1_end)\n",
    "t2 = -1*(t2_start - t2_end)\n",
    "t3 = -1*(t3_start - t3_end)"
   ]
  },
  {
   "cell_type": "code",
   "execution_count": null,
   "metadata": {},
   "outputs": [],
   "source": [
    "t1,t2,t3"
   ]
  },
  {
   "cell_type": "code",
   "execution_count": null,
   "metadata": {},
   "outputs": [],
   "source": []
  },
  {
   "cell_type": "code",
   "execution_count": null,
   "metadata": {},
   "outputs": [],
   "source": [
    "plt.plot(gasforce1[0],trial1[0])\n",
    "plt.grid()\n",
    "plt.show()"
   ]
  },
  {
   "cell_type": "code",
   "execution_count": null,
   "metadata": {},
   "outputs": [],
   "source": []
  }
 ],
 "metadata": {
  "kernelspec": {
   "display_name": "Python 3",
   "language": "python",
   "name": "python3"
  },
  "language_info": {
   "codemirror_mode": {
    "name": "ipython",
    "version": 3
   },
   "file_extension": ".py",
   "mimetype": "text/x-python",
   "name": "python",
   "nbconvert_exporter": "python",
   "pygments_lexer": "ipython3",
   "version": "3.6.4"
  }
 },
 "nbformat": 4,
 "nbformat_minor": 2
}
